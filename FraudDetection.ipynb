{
 "cells": [
  {
   "cell_type": "code",
   "execution_count": null,
   "id": "cc209b87-880b-4b5a-a940-4d8cd3425629",
   "metadata": {},
   "outputs": [],
   "source": [
    "#fraud detection\n",
    "\n",
    "import numpy as np \n",
    "from IPython.display import display\n",
    "import pandas as pd \n",
    "import matplotlib.pyplot as plt\n",
    "import seaborn as sns\n",
    "from sklearn.model_selection import train_test_split\n",
    "from sklearn.neighbors import KNeighborsClassifier \n",
    "from sklearn.model_selection import StratifiedKFold\n",
    "\n",
    "\n",
    "from sklearn.ensemble import RandomForestClassifier \n",
    "from sklearn.svm import SVC \n",
    "from sklearn.linear_model import LogisticRegression \n",
    "from sklearn import metrics \n",
    "\n",
    "df = pd.read_csv('/Users/finnwethall/Desktop/Dev/Jupyter Notebook/Fraud Detection/Sheet 1-1-creditcard.csv')\n",
    "#df = pd.read_csv('fraudTrain.csv')\n",
    "df = df.sample(n=10000)  # Adjust 'n' as needed\n",
    "\n",
    "print(df['Class'].value_counts(normalize=True))\n",
    "\n"
   ]
  }
 ],
 "metadata": {
  "kernelspec": {
   "display_name": "Python 3 (ipykernel)",
   "language": "python",
   "name": "python3"
  },
  "language_info": {
   "codemirror_mode": {
    "name": "ipython",
    "version": 3
   },
   "file_extension": ".py",
   "mimetype": "text/x-python",
   "name": "python",
   "nbconvert_exporter": "python",
   "pygments_lexer": "ipython3",
   "version": "3.12.4"
  }
 },
 "nbformat": 4,
 "nbformat_minor": 5
}
